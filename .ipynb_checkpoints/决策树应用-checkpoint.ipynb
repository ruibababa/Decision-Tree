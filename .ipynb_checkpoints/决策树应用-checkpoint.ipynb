{
 "cells": [
  {
   "cell_type": "markdown",
   "metadata": {},
   "source": [
    "# 导入我们需要的包\n",
    "\n",
    "其中DictVectorizer是将字典转为onehot类型的包。"
   ]
  },
  {
   "cell_type": "code",
   "execution_count": 1,
   "metadata": {},
   "outputs": [],
   "source": [
    "import pandas as pd\n",
    "import numpy as np\n",
    "import sklearn\n",
    "\n",
    "from sklearn import preprocessing\n",
    "from sklearn import tree\n",
    "from sklearn.feature_extraction import DictVectorizer"
   ]
  },
  {
   "cell_type": "markdown",
   "metadata": {},
   "source": [
    "# 处理数据\n",
    "\n",
    "1、labelList里面是最后一列数据，也就是买或则不买的结果。（yes or no)\n",
    "2、heaerlist里面是数据的类别也就是(RID,age,income,student,credit_rating,class_buys_computer)\n",
    "3、valueList里面是每个样本的数据，但是除了RID字段和class_buys_computer字段\n",
    "4、featureList里面是{'age': 'youth', 'income': 'high', 'student': 'no', 'credit_rating': 'fair'}，包含每个属性对应值的多个字典的列表。因为DictVectorizer会把字典型数据转化为onehot型数据。"
   ]
  },
  {
   "cell_type": "code",
   "execution_count": 2,
   "metadata": {},
   "outputs": [
    {
     "name": "stdout",
     "output_type": "stream",
     "text": [
      "['no', 'no', 'yes', 'yes', 'yes', 'no', 'yes', 'no', 'yes', 'yes', 'yes', 'yes', 'yes', 'no']\n",
      "\n",
      "\n",
      "[{'age': 'youth', 'income': 'high', 'student': 'no', 'credit_rating': 'fair'}, {'age': 'youth', 'income': 'high', 'student': 'no', 'credit_rating': 'excellent'}, {'age': 'middle_aged', 'income': 'high', 'student': 'no', 'credit_rating': 'fair'}, {'age': 'senior', 'income': 'medium', 'student': 'no', 'credit_rating': 'fair'}, {'age': 'senior', 'income': 'low', 'student': 'yes', 'credit_rating': 'fair'}, {'age': 'senior', 'income': 'low', 'student': 'yes', 'credit_rating': 'excellent'}, {'age': 'middle_aged', 'income': 'low', 'student': 'yes', 'credit_rating': 'excellent'}, {'age': 'youth', 'income': 'medium', 'student': 'no', 'credit_rating': 'fair'}, {'age': 'youth', 'income': 'low', 'student': 'yes', 'credit_rating': 'fair'}, {'age': 'senior', 'income': 'medium', 'student': 'yes', 'credit_rating': 'fair'}, {'age': 'youth', 'income': 'medium', 'student': 'yes', 'credit_rating': 'excellent'}, {'age': 'middle_aged', 'income': 'medium', 'student': 'no', 'credit_rating': 'excellent'}, {'age': 'middle_aged', 'income': 'high', 'student': 'yes', 'credit_rating': 'fair'}, {'age': 'senior', 'income': 'medium', 'student': 'no', 'credit_rating': 'excellent'}]\n",
      "\n",
      "\n",
      "[array(['youth', 'high', 'no', 'fair'], dtype=object), array(['youth', 'high', 'no', 'excellent'], dtype=object), array(['middle_aged', 'high', 'no', 'fair'], dtype=object), array(['senior', 'medium', 'no', 'fair'], dtype=object), array(['senior', 'low', 'yes', 'fair'], dtype=object), array(['senior', 'low', 'yes', 'excellent'], dtype=object), array(['middle_aged', 'low', 'yes', 'excellent'], dtype=object), array(['youth', 'medium', 'no', 'fair'], dtype=object), array(['youth', 'low', 'yes', 'fair'], dtype=object), array(['senior', 'medium', 'yes', 'fair'], dtype=object), array(['youth', 'medium', 'yes', 'excellent'], dtype=object), array(['middle_aged', 'medium', 'no', 'excellent'], dtype=object), array(['middle_aged', 'high', 'yes', 'fair'], dtype=object), array(['senior', 'medium', 'no', 'excellent'], dtype=object)]\n"
     ]
    }
   ],
   "source": [
    "data = pd.read_csv('./AllElectronics.csv')\n",
    "labelList = []\n",
    "featureList = []\n",
    "headerList = []\n",
    "valueList = []\n",
    "\n",
    "for name in data.head():\n",
    "    headerList.append(name)\n",
    "headerList.pop()\n",
    "headerList.pop(0)\n",
    "\n",
    "for i in data.iloc[:,-1]:\n",
    "    labelList.append(i)\n",
    "\n",
    "for row in data.index:\n",
    "    valueList.append(data.iloc[row].values[1:5])\n",
    "\n",
    "# 将两个列表合并成一个字典，用zip函数。\n",
    "for i in valueList:\n",
    "     feature = dict(zip(headerList,i))\n",
    "     featureList.append(feature)\n",
    "\n",
    "print(labelList)\n",
    "print('\\n')\n",
    "print(featureList)\n",
    "print('\\n')\n",
    "print(valueList)"
   ]
  },
  {
   "cell_type": "markdown",
   "metadata": {},
   "source": [
    "# 处理数据\n",
    "\n",
    "将字典型数据转化为onehot数据"
   ]
  },
  {
   "cell_type": "code",
   "execution_count": 264,
   "metadata": {},
   "outputs": [
    {
     "data": {
      "text/plain": [
       "array([[0., 0., 1., 0., 1., 1., 0., 0., 1., 0.],\n",
       "       [0., 0., 1., 1., 0., 1., 0., 0., 1., 0.],\n",
       "       [1., 0., 0., 0., 1., 1., 0., 0., 1., 0.],\n",
       "       [0., 1., 0., 0., 1., 0., 0., 1., 1., 0.],\n",
       "       [0., 1., 0., 0., 1., 0., 1., 0., 0., 1.],\n",
       "       [0., 1., 0., 1., 0., 0., 1., 0., 0., 1.],\n",
       "       [1., 0., 0., 1., 0., 0., 1., 0., 0., 1.],\n",
       "       [0., 0., 1., 0., 1., 0., 0., 1., 1., 0.],\n",
       "       [0., 0., 1., 0., 1., 0., 1., 0., 0., 1.],\n",
       "       [0., 1., 0., 0., 1., 0., 0., 1., 0., 1.],\n",
       "       [0., 0., 1., 1., 0., 0., 0., 1., 0., 1.],\n",
       "       [1., 0., 0., 1., 0., 0., 0., 1., 1., 0.],\n",
       "       [1., 0., 0., 0., 1., 1., 0., 0., 0., 1.],\n",
       "       [0., 1., 0., 1., 0., 0., 0., 1., 1., 0.]])"
      ]
     },
     "execution_count": 264,
     "metadata": {},
     "output_type": "execute_result"
    }
   ],
   "source": [
    "vec = DictVectorizer()\n",
    "dummyX = vec.fit_transform(featureList).toarray()\n",
    "dummyX"
   ]
  },
  {
   "cell_type": "markdown",
   "metadata": {},
   "source": [
    "# 处理数据\n",
    "\n",
    "将labelList中的class_buys_computer中的数据处理成onehot数据"
   ]
  },
  {
   "cell_type": "code",
   "execution_count": 265,
   "metadata": {},
   "outputs": [
    {
     "data": {
      "text/plain": [
       "array([[0],\n",
       "       [0],\n",
       "       [1],\n",
       "       [1],\n",
       "       [1],\n",
       "       [0],\n",
       "       [1],\n",
       "       [0],\n",
       "       [1],\n",
       "       [1],\n",
       "       [1],\n",
       "       [1],\n",
       "       [1],\n",
       "       [0]])"
      ]
     },
     "execution_count": 265,
     "metadata": {},
     "output_type": "execute_result"
    }
   ],
   "source": [
    "lb = preprocessing.LabelBinarizer()\n",
    "dummyY = lb.fit_transform(labelList)\n",
    "dummyY"
   ]
  },
  {
   "cell_type": "markdown",
   "metadata": {},
   "source": [
    "# 训练数据\n",
    "\n",
    "训练这个数据"
   ]
  },
  {
   "cell_type": "code",
   "execution_count": 266,
   "metadata": {},
   "outputs": [
    {
     "name": "stdout",
     "output_type": "stream",
     "text": [
      "DecisionTreeClassifier(class_weight=None, criterion='entropy', max_depth=None,\n",
      "            max_features=None, max_leaf_nodes=None,\n",
      "            min_impurity_decrease=0.0, min_impurity_split=None,\n",
      "            min_samples_leaf=1, min_samples_split=2,\n",
      "            min_weight_fraction_leaf=0.0, presort=False, random_state=None,\n",
      "            splitter='best')\n"
     ]
    }
   ],
   "source": [
    "clf = tree.DecisionTreeClassifier(criterion='entropy')\n",
    "clf = clf.fit(dummyX, dummyY)\n",
    "print(clf)"
   ]
  },
  {
   "cell_type": "markdown",
   "metadata": {},
   "source": [
    "# 测试数据\n",
    "\n",
    "我们构造一个数据，其中把年龄改一下。因为测试数据必须是二维数据，所以我们加一个[]使它成为二位数据。"
   ]
  },
  {
   "cell_type": "code",
   "execution_count": 267,
   "metadata": {},
   "outputs": [],
   "source": [
    "oneRowX = dummyX[0, :]\n",
    "newRowX = oneRowX\n",
    "newRowX[0] = 1\n",
    "newRowX[2] = 0\n",
    "newRowX\n",
    "newRowX = [newRowX]"
   ]
  },
  {
   "cell_type": "markdown",
   "metadata": {},
   "source": [
    "# 预测结果\n",
    "\n",
    "最后的结果"
   ]
  },
  {
   "cell_type": "code",
   "execution_count": 268,
   "metadata": {},
   "outputs": [
    {
     "name": "stdout",
     "output_type": "stream",
     "text": [
      "[1]\n"
     ]
    }
   ],
   "source": [
    "predictedY = clf.predict(newRowX)\n",
    "print(predictedY)"
   ]
  }
 ],
 "metadata": {
  "kernelspec": {
   "display_name": "Python 3",
   "language": "python",
   "name": "python3"
  },
  "language_info": {
   "codemirror_mode": {
    "name": "ipython",
    "version": 3
   },
   "file_extension": ".py",
   "mimetype": "text/x-python",
   "name": "python",
   "nbconvert_exporter": "python",
   "pygments_lexer": "ipython3",
   "version": "3.6.5"
  }
 },
 "nbformat": 4,
 "nbformat_minor": 2
}
